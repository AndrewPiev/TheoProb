{
 "cells": [
  {
   "cell_type": "markdown",
   "id": "5f5625b3-8e51-4c43-bc4f-2fbf053fb42e",
   "metadata": {
    "tags": []
   },
   "source": [
    " # Домашнее задание к семинару №1\n",
    " \n",
    " ## Задачи: \n",
    "1. Из колоды в 52 карты извлекаются случайным образом 4 карты. a) Найти вероятность того, что все карты – крести. б) Найти вероятность, что среди 4-х карт окажется хотя бы один туз.\n",
    "2. На входной двери подъезда установлен кодовый замок, содержащий десять кнопок с цифрами от 0 до 9. Код содержит три цифры, которые нужно нажать одновременно. Какова вероятность того, что человек, не знающий код, откроет дверь с первой попытки?\n",
    "3. В ящике имеется 15 деталей, из которых 9 окрашены. Рабочий случайным образом извлекает 3 детали. Какова вероятность того, что все извлеченные детали окрашены?\n",
    "4. В лотерее 100 билетов. Из них 2 выигрышных. Какова вероятность того, что 2 приобретенных билета окажутся выигрышными?"
   ]
  },
  {
   "cell_type": "markdown",
   "id": "f63d5aa5-eb8b-4462-8619-790e846ddc0a",
   "metadata": {},
   "source": [
    "**Решение задачи №1.а:**"
   ]
  },
  {
   "cell_type": "markdown",
   "id": "b3825abb",
   "metadata": {},
   "source": [
    "Вероятность получения первой карты крестей 13/52, в последующем количество карт в колоде и крестей в ней же уменьшается соответственно на единицу, и для получения итоговой вероятности нам необходимо решать через \"И\", т.е. перемножить все вероятности:"
   ]
  },
  {
   "cell_type": "code",
   "execution_count": 14,
   "id": "563a637f",
   "metadata": {},
   "outputs": [
    {
     "data": {
      "text/plain": [
       "0.0026410564225690276"
      ]
     },
     "execution_count": 14,
     "metadata": {},
     "output_type": "execute_result"
    }
   ],
   "source": [
    "x = 13/52*12/51*11/50*10/49\n",
    "x"
   ]
  },
  {
   "cell_type": "markdown",
   "id": "66bd161c",
   "metadata": {},
   "source": [
    "**Решение задачи №1.б:**"
   ]
  },
  {
   "cell_type": "markdown",
   "id": "1fdbd3c6",
   "metadata": {},
   "source": [
    "Количество комбинаций тузов для первой карты равно 4, т.е. один из 4-х тузов совмещен с любой возможной комбинацией из 3-х карт, таким образом получаем перемножение этих комбинаций, деленное на общее количество комбинаций из 4-х карт, или \n",
    "4*(51!/(3!*48!)/(52!/(4!*48!), факториалы сокращаются остается дробь 16/52"
   ]
  },
  {
   "cell_type": "code",
   "execution_count": 19,
   "id": "8ea59b91",
   "metadata": {},
   "outputs": [
    {
     "data": {
      "text/plain": [
       "0.3076923076923077"
      ]
     },
     "execution_count": 19,
     "metadata": {},
     "output_type": "execute_result"
    }
   ],
   "source": [
    "y = 16/52\n",
    "y"
   ]
  },
  {
   "cell_type": "markdown",
   "id": "abe2d016",
   "metadata": {},
   "source": [
    "**Решение задачи №2:**"
   ]
  },
  {
   "cell_type": "markdown",
   "id": "99b9e9b1",
   "metadata": {},
   "source": [
    "Получается нам необходимо вычислить вероятность сочетания 3-х цифр из 10-ти формулой 10!/(3!*7!)"
   ]
  },
  {
   "cell_type": "code",
   "execution_count": 20,
   "id": "8f639683",
   "metadata": {},
   "outputs": [
    {
     "data": {
      "text/plain": [
       "0.008333333333333333"
      ]
     },
     "execution_count": 20,
     "metadata": {},
     "output_type": "execute_result"
    }
   ],
   "source": [
    "z = 10*9*8/6\n",
    "1/z"
   ]
  },
  {
   "cell_type": "markdown",
   "id": "2ab1f13a",
   "metadata": {},
   "source": [
    "**Решение задачи №3:**"
   ]
  },
  {
   "cell_type": "markdown",
   "id": "a96785e0",
   "metadata": {},
   "source": [
    "Здесь аналогично задаче 1.а мы имеем \"И\" с поэтапным уменьшением количества деталей как нужного так и общего на единицу, т.е. вероятность равна 9/15*8/14*7/13"
   ]
  },
  {
   "cell_type": "code",
   "execution_count": 21,
   "id": "0109e015",
   "metadata": {},
   "outputs": [
    {
     "data": {
      "text/plain": [
       "0.1846153846153846"
      ]
     },
     "execution_count": 21,
     "metadata": {},
     "output_type": "execute_result"
    }
   ],
   "source": [
    "w = 9/15*8/14*7/13\n",
    "w"
   ]
  },
  {
   "cell_type": "markdown",
   "id": "b99a2ecd",
   "metadata": {},
   "source": [
    "**Решение задачи №4:**"
   ]
  },
  {
   "cell_type": "markdown",
   "id": "0992258a",
   "metadata": {},
   "source": [
    "Аналогично решаем перемножением вероятностей с учетом выпадения выигрышного билета в для первого элемента, т.е.\n",
    "2/100*1/99"
   ]
  },
  {
   "cell_type": "code",
   "execution_count": 22,
   "id": "8a5bf3c1",
   "metadata": {},
   "outputs": [
    {
     "data": {
      "text/plain": [
       "0.00020202020202020202"
      ]
     },
     "execution_count": 22,
     "metadata": {},
     "output_type": "execute_result"
    }
   ],
   "source": [
    "v = 2/100*1/99\n",
    "v"
   ]
  }
 ],
 "metadata": {
  "kernelspec": {
   "display_name": "Python 3 (ipykernel)",
   "language": "python",
   "name": "python3"
  },
  "language_info": {
   "codemirror_mode": {
    "name": "ipython",
    "version": 3
   },
   "file_extension": ".py",
   "mimetype": "text/x-python",
   "name": "python",
   "nbconvert_exporter": "python",
   "pygments_lexer": "ipython3",
   "version": "3.9.13"
  }
 },
 "nbformat": 4,
 "nbformat_minor": 5
}
